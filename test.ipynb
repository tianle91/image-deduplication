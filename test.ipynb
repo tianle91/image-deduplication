{
 "cells": [
  {
   "cell_type": "code",
   "execution_count": 1,
   "metadata": {},
   "outputs": [
    {
     "name": "stdout",
     "output_type": "stream",
     "text": [
      "['./testinputdir/IMG_20220511_145538.HEIC', './testinputdir/IMG_20220511_180512.HEIC']\n"
     ]
    }
   ],
   "source": [
    "from glob import glob\n",
    "import os\n",
    "\n",
    "input_directory = './testinputdir'\n",
    "files = glob(os.path.join(input_directory, '*'))\n",
    "print(files[:2])"
   ]
  },
  {
   "cell_type": "code",
   "execution_count": 2,
   "metadata": {},
   "outputs": [],
   "source": [
    "import pyheif\n",
    "import io\n",
    "from PIL import Image\n",
    "\n",
    "def dump_input_heic_as_jpg(input_path, output_path):\n",
    "    with open(input_path, mode='rb') as f:\n",
    "        i = pyheif.read_heif(f)\n",
    "\n",
    "    # Convert to other file format like jpeg\n",
    "    s = io.BytesIO()\n",
    "    pi = Image.frombytes(mode=i.mode, size=i.size, data=i.data)\n",
    "    pi.save(s, format=\"jpeg\")\n",
    "\n",
    "    with open(output_path, mode='wb') as f:\n",
    "        f.write(s.getvalue())"
   ]
  },
  {
   "cell_type": "code",
   "execution_count": 3,
   "metadata": {},
   "outputs": [
    {
     "name": "stdout",
     "output_type": "stream",
     "text": [
      "[0/42] ./testinputdir/IMG_20220511_145538.HEIC -> ./tempdir/IMG_20220511_145538.jpg\n",
      "[1/42] ./testinputdir/IMG_20220511_180512.HEIC -> ./tempdir/IMG_20220511_180512.jpg\n",
      "[2/42] ./testinputdir/IMG_20220511_180611.HEIC -> ./tempdir/IMG_20220511_180611.jpg\n",
      "[3/42] ./testinputdir/IMG_20220511_180640.HEIC -> ./tempdir/IMG_20220511_180640.jpg\n",
      "[4/42] ./testinputdir/IMG_20220511_180642.HEIC -> ./tempdir/IMG_20220511_180642.jpg\n",
      "[5/42] ./testinputdir/IMG_20220511_180657.HEIC -> ./tempdir/IMG_20220511_180657.jpg\n",
      "[6/42] ./testinputdir/IMG_20220511_180659.heic -> ./tempdir/IMG_20220511_180659.jpg\n",
      "[7/42] ./testinputdir/IMG_20220511_180704.heic -> ./tempdir/IMG_20220511_180704.jpg\n",
      "[8/42] ./testinputdir/IMG_20220511_180706.HEIC -> ./tempdir/IMG_20220511_180706.jpg\n",
      "[9/42] ./testinputdir/IMG_20220511_180706_1.heic -> ./tempdir/IMG_20220511_180706_1.jpg\n",
      "[10/42] ./testinputdir/IMG_20220511_180740.HEIC -> ./tempdir/IMG_20220511_180740.jpg\n",
      "[11/42] ./testinputdir/IMG_20220511_180758.HEIC -> ./tempdir/IMG_20220511_180758.jpg\n",
      "[12/42] ./testinputdir/IMG_20220511_180823.HEIC -> ./tempdir/IMG_20220511_180823.jpg\n",
      "[13/42] ./testinputdir/IMG_20220511_180937.heic -> ./tempdir/IMG_20220511_180937.jpg\n",
      "[14/42] ./testinputdir/IMG_20220511_180952.HEIC -> ./tempdir/IMG_20220511_180952.jpg\n",
      "[15/42] ./testinputdir/IMG_20220511_181008.heic -> ./tempdir/IMG_20220511_181008.jpg\n",
      "[16/42] ./testinputdir/IMG_20220511_181039.HEIC -> ./tempdir/IMG_20220511_181039.jpg\n",
      "[17/42] ./testinputdir/IMG_20220511_181059.HEIC -> ./tempdir/IMG_20220511_181059.jpg\n",
      "[18/42] ./testinputdir/IMG_20220511_181107.HEIC -> ./tempdir/IMG_20220511_181107.jpg\n",
      "[19/42] ./testinputdir/IMG_20220511_181219.HEIC -> ./tempdir/IMG_20220511_181219.jpg\n",
      "[20/42] ./testinputdir/IMG_20220511_181307.heic -> ./tempdir/IMG_20220511_181307.jpg\n",
      "[21/42] ./testinputdir/IMG_20220511_181323.DNG -> ./tempdir/IMG_20220511_181323.jpg\n",
      "Ignoring ./testinputdir/IMG_20220511_181323.DNG\n",
      "[22/42] ./testinputdir/IMG_20220511_181336.HEIC -> ./tempdir/IMG_20220511_181336.jpg\n",
      "[23/42] ./testinputdir/IMG_20220511_181345.heic -> ./tempdir/IMG_20220511_181345.jpg\n",
      "[24/42] ./testinputdir/IMG_20220511_181356.HEIC -> ./tempdir/IMG_20220511_181356.jpg\n",
      "[25/42] ./testinputdir/IMG_20220511_181543.HEIC -> ./tempdir/IMG_20220511_181543.jpg\n",
      "[26/42] ./testinputdir/IMG_20220511_181552.HEIC -> ./tempdir/IMG_20220511_181552.jpg\n",
      "[27/42] ./testinputdir/IMG_20220511_181713.HEIC -> ./tempdir/IMG_20220511_181713.jpg\n",
      "[28/42] ./testinputdir/IMG_20220511_181716.HEIC -> ./tempdir/IMG_20220511_181716.jpg\n",
      "[29/42] ./testinputdir/IMG_20220511_181731.HEIC -> ./tempdir/IMG_20220511_181731.jpg\n",
      "[30/42] ./testinputdir/IMG_20220511_181757.HEIC -> ./tempdir/IMG_20220511_181757.jpg\n",
      "[31/42] ./testinputdir/IMG_20220511_181814.HEIC -> ./tempdir/IMG_20220511_181814.jpg\n",
      "[32/42] ./testinputdir/IMG_20220511_181850.HEIC -> ./tempdir/IMG_20220511_181850.jpg\n",
      "[33/42] ./testinputdir/IMG_20220511_181955.HEIC -> ./tempdir/IMG_20220511_181955.jpg\n",
      "[34/42] ./testinputdir/IMG_20220511_182013.HEIC -> ./tempdir/IMG_20220511_182013.jpg\n",
      "[35/42] ./testinputdir/IMG_20220511_182043.HEIC -> ./tempdir/IMG_20220511_182043.jpg\n",
      "[36/42] ./testinputdir/IMG_20220511_182053.HEIC -> ./tempdir/IMG_20220511_182053.jpg\n",
      "[37/42] ./testinputdir/IMG_20220511_182116.HEIC -> ./tempdir/IMG_20220511_182116.jpg\n",
      "[38/42] ./testinputdir/IMG_20220511_182121.HEIC -> ./tempdir/IMG_20220511_182121.jpg\n",
      "[39/42] ./testinputdir/IMG_20220511_182225.heic -> ./tempdir/IMG_20220511_182225.jpg\n",
      "[40/42] ./testinputdir/IMG_20220511_182259.HEIC -> ./tempdir/IMG_20220511_182259.jpg\n",
      "[41/42] ./testinputdir/IMG_20220511_182301.MOV -> ./tempdir/IMG_20220511_182301.jpg\n",
      "Ignoring ./testinputdir/IMG_20220511_182301.MOV\n"
     ]
    }
   ],
   "source": [
    "# from tempfile import TemporaryDirectory\n",
    "import shutil\n",
    "from pathlib import Path    \n",
    "\n",
    "mapping = {}\n",
    "\n",
    "p = './tempdir'\n",
    "# with TemporaryDirectory() as p:\n",
    "\n",
    "for i, input_path in enumerate(files):\n",
    "    filename = Path(input_path).name\n",
    "    filename_extension = filename.split('.')[1].lower()\n",
    "    output_filename = filename.split('.')[0] + '.jpg'\n",
    "    output_path = os.path.join(p, output_filename)\n",
    "    print(f'[{i}/{len(files)}] {input_path} -> {output_path}')\n",
    "\n",
    "    if filename_extension == 'heic':\n",
    "        dump_input_heic_as_jpg(input_path, output_path)\n",
    "    elif filename_extension == 'jpg':\n",
    "        shutil.copyfile(input_path, output_path)\n",
    "    else:\n",
    "        print(f'Ignoring {input_path}')\n",
    "        continue\n",
    "    mapping[input_path] = output_filename"
   ]
  },
  {
   "cell_type": "code",
   "execution_count": 4,
   "metadata": {},
   "outputs": [
    {
     "name": "stderr",
     "output_type": "stream",
     "text": [
      "2022-05-23 16:05:20,279: INFO Start: Calculating hashes...\n",
      "100%|██████████| 40/40 [00:06<00:00,  6.35it/s]\n",
      "2022-05-23 16:05:26,700: INFO End: Calculating hashes!\n"
     ]
    }
   ],
   "source": [
    "from imagededup.methods import PHash\n",
    "\n",
    "phasher = PHash()\n",
    "encodings = phasher.encode_images('tempdir')\n",
    "# duplicates = phasher.find_duplicates(encodings)"
   ]
  },
  {
   "cell_type": "code",
   "execution_count": 5,
   "metadata": {},
   "outputs": [
    {
     "name": "stderr",
     "output_type": "stream",
     "text": [
      "2022-05-23 16:05:26,729: INFO Start: Evaluating hamming distances for getting duplicates\n",
      "2022-05-23 16:05:26,730: INFO Start: Retrieving duplicates using Cython Brute force algorithm\n",
      "100%|██████████| 40/40 [00:00<00:00, 207126.12it/s]\n",
      "2022-05-23 16:05:26,917: INFO End: Retrieving duplicates using Cython Brute force algorithm\n",
      "2022-05-23 16:05:26,918: INFO End: Evaluating hamming distances for getting duplicates\n"
     ]
    }
   ],
   "source": [
    "duplicates = phasher.find_duplicates(encoding_map=encodings)"
   ]
  },
  {
   "cell_type": "code",
   "execution_count": 6,
   "metadata": {},
   "outputs": [
    {
     "data": {
      "text/plain": [
       "{'IMG_20220511_145538.jpg': [],\n",
       " 'IMG_20220511_180512.jpg': [],\n",
       " 'IMG_20220511_180611.jpg': [],\n",
       " 'IMG_20220511_180640.jpg': [],\n",
       " 'IMG_20220511_180642.jpg': [],\n",
       " 'IMG_20220511_180657.jpg': [],\n",
       " 'IMG_20220511_180659.jpg': [],\n",
       " 'IMG_20220511_180704.jpg': [],\n",
       " 'IMG_20220511_180706.jpg': [],\n",
       " 'IMG_20220511_180706_1.jpg': [],\n",
       " 'IMG_20220511_180740.jpg': ['IMG_20220511_180758.jpg'],\n",
       " 'IMG_20220511_180758.jpg': ['IMG_20220511_180740.jpg'],\n",
       " 'IMG_20220511_180823.jpg': [],\n",
       " 'IMG_20220511_180937.jpg': [],\n",
       " 'IMG_20220511_180952.jpg': [],\n",
       " 'IMG_20220511_181008.jpg': [],\n",
       " 'IMG_20220511_181039.jpg': [],\n",
       " 'IMG_20220511_181059.jpg': [],\n",
       " 'IMG_20220511_181107.jpg': [],\n",
       " 'IMG_20220511_181219.jpg': [],\n",
       " 'IMG_20220511_181307.jpg': [],\n",
       " 'IMG_20220511_181336.jpg': [],\n",
       " 'IMG_20220511_181345.jpg': [],\n",
       " 'IMG_20220511_181356.jpg': [],\n",
       " 'IMG_20220511_181543.jpg': [],\n",
       " 'IMG_20220511_181552.jpg': [],\n",
       " 'IMG_20220511_181713.jpg': [],\n",
       " 'IMG_20220511_181716.jpg': [],\n",
       " 'IMG_20220511_181731.jpg': [],\n",
       " 'IMG_20220511_181757.jpg': ['IMG_20220511_181814.jpg'],\n",
       " 'IMG_20220511_181814.jpg': ['IMG_20220511_181757.jpg'],\n",
       " 'IMG_20220511_181850.jpg': [],\n",
       " 'IMG_20220511_181955.jpg': [],\n",
       " 'IMG_20220511_182013.jpg': [],\n",
       " 'IMG_20220511_182043.jpg': [],\n",
       " 'IMG_20220511_182053.jpg': [],\n",
       " 'IMG_20220511_182116.jpg': ['IMG_20220511_182121.jpg'],\n",
       " 'IMG_20220511_182121.jpg': ['IMG_20220511_182116.jpg'],\n",
       " 'IMG_20220511_182225.jpg': [],\n",
       " 'IMG_20220511_182259.jpg': []}"
      ]
     },
     "execution_count": 6,
     "metadata": {},
     "output_type": "execute_result"
    }
   ],
   "source": [
    "duplicates"
   ]
  }
 ],
 "metadata": {
  "interpreter": {
   "hash": "949777d72b0d2535278d3dc13498b2535136f6dfe0678499012e853ee9abcab1"
  },
  "kernelspec": {
   "display_name": "Python 3.7.13 64-bit",
   "language": "python",
   "name": "python3"
  },
  "language_info": {
   "codemirror_mode": {
    "name": "ipython",
    "version": 3
   },
   "file_extension": ".py",
   "mimetype": "text/x-python",
   "name": "python",
   "nbconvert_exporter": "python",
   "pygments_lexer": "ipython3",
   "version": "3.7.13"
  },
  "orig_nbformat": 4
 },
 "nbformat": 4,
 "nbformat_minor": 2
}
